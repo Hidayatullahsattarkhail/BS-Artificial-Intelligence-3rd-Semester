{
  "nbformat": 4,
  "nbformat_minor": 0,
  "metadata": {
    "colab": {
      "provenance": []
    },
    "kernelspec": {
      "name": "python3",
      "display_name": "Python 3"
    },
    "language_info": {
      "name": "python"
    }
  },
  "cells": [
    {
      "cell_type": "markdown",
      "source": [
        "\n",
        "## Name: **HIDAYAT ULLAH**  \n",
        "## R No: **B24F0050AI099**  \n",
        "## Assignment: **01**\n",
        "## Date: **20/09/2025**  \n",
        "## Submitted to: **Mr, Umm-e-Habiba**\n"
      ],
      "metadata": {
        "id": "Ul0OZv51-K3L"
      }
    },
    {
      "cell_type": "markdown",
      "source": [
        "#`Task 1: Using if with := (Walrus Operator)`\n",
        "**Scenario.**  \n",
        "Imagine you are designing a simple live polling system. The program should allow   \n",
        "multiple users to vote either \"yes\" or \"no\", and it should stop only when a user types \"stop\".  \n",
        "**Requirements:**  \n",
        "1. Use the Walrus Operator (:=) to both read input and check it inside the while loop condition.    \n",
        "2. If the user enters \"yes\", increase the yes votes count.\n",
        "3. If the user enters \"no\", increase the no votes count.\n",
        "4. If the user enters anything else (other than \"yes\", \"no\", or \"stop\") → print \"Invalid vote, try again.\"  \n",
        "5. At the end of polling, display the total number of \"yes\" and \"no\" votes."
      ],
      "metadata": {
        "id": "a7Wu_xMd-QSa"
      }
    },
    {
      "cell_type": "code",
      "source": [
        "yes_votes = 0\n",
        "no_votes = 0\n",
        "\n",
        "while (vote := input(\"Enter vote (yes/no or stop to finish): \").lower()) != \"stop\":\n",
        "    if  vote == \"yes\":\n",
        "        yes_votes += 1\n",
        "    elif  vote == \"no\":\n",
        "        no_votes += 1\n",
        "    else:\n",
        "\n",
        "        print(\"Invalid vote, try again.\")\n",
        "print(\"Voting Results:\")\n",
        "print(\"Yes votes =\", yes_votes)\n",
        "print(\"No votes =\", no_votes)"
      ],
      "metadata": {
        "colab": {
          "base_uri": "https://localhost:8080/",
          "height": 0
        },
        "id": "2xs8p6xmCM5Z",
        "outputId": "d74dcb8d-8abb-4ea4-9927-bf4ffbb7b98b"
      },
      "execution_count": 7,
      "outputs": [
        {
          "output_type": "stream",
          "name": "stdout",
          "text": [
            "Enter vote (yes/no or stop to finish): yes\n",
            "Enter vote (yes/no or stop to finish): no\n",
            "Enter vote (yes/no or stop to finish): maybe\n",
            "Invalid vote, try again.\n",
            "Enter vote (yes/no or stop to finish): yes\n",
            "Enter vote (yes/no or stop to finish): stop\n",
            "Voting Results:\n",
            "Yes votes = 2\n",
            "No votes = 1\n"
          ]
        }
      ]
    },
    {
      "cell_type": "markdown",
      "source": [
        "#`Descriptions`\n",
        "This task make a voting system.  \n",
        "User can type yes, no or stop.  \n",
        "Program count yes and no votes, and show invalid if wrong word.  \n",
        "I use walrus operator (:=) inside while loop to take input and check same time."
      ],
      "metadata": {
        "id": "LTnss_DvGRM3"
      }
    },
    {
      "cell_type": "markdown",
      "source": [
        "###"
      ],
      "metadata": {
        "id": "9mLlJ_SpGiFZ"
      }
    },
    {
      "cell_type": "markdown",
      "source": [
        "-----"
      ],
      "metadata": {
        "id": "_KvOQPRnGkyF"
      }
    },
    {
      "cell_type": "markdown",
      "source": [
        "#`Task 2: Using Conditional Expressions inside Loops`\n",
        "**Scenario**.   \n",
        " Consider developing a shopping cart system. The prices of items are stored in a list. For each item:    \n",
        "1. If the price is ≥ 1000, tag it as \"Expensive\".  \n",
        "2. Otherwise, tag it as \"Affordable\".  \n",
        "3. Use a for loop with a conditional expression (ternary operator) inside the loop.  \n",
        "\n",
        "\n",
        "\n",
        "\n"
      ],
      "metadata": {
        "id": "RiI__wp-_1kr"
      }
    },
    {
      "cell_type": "code",
      "source": [
        "cart_prices = [500, 1500, 200, 2500]\n",
        "\n",
        "print(\"Cart Prices:\", cart_prices)\n",
        "for price in cart_prices:\n",
        "    tag = \"Expensive\" if price >= 1000 else \"Affordable\"\n",
        "    print(\"Item with price\", price, \"->\", tag)\n"
      ],
      "metadata": {
        "colab": {
          "base_uri": "https://localhost:8080/",
          "height": 0
        },
        "id": "qbjYAke-Eauw",
        "outputId": "1ae9c5c2-269e-4a8b-ed70-a1bbae33b646"
      },
      "execution_count": 9,
      "outputs": [
        {
          "output_type": "stream",
          "name": "stdout",
          "text": [
            "Cart Prices: [500, 1500, 200, 2500]\n",
            "Item with price 500 -> Affordable\n",
            "Item with price 1500 -> Expensive\n",
            "Item with price 200 -> Affordable\n",
            "Item with price 2500 -> Expensive\n"
          ]
        }
      ]
    },
    {
      "cell_type": "markdown",
      "source": [
        "#`Descriptions`\n",
        "This task make a shopping cart.  \n",
        "Prices are stored in a list.  \n",
        "If price ≥ 1000 program say Expensive, else Affordable.  \n",
        "I use for loop with short if else (conditional expression)."
      ],
      "metadata": {
        "id": "s6S1i8uQGgl0"
      }
    },
    {
      "cell_type": "markdown",
      "source": [
        "####"
      ],
      "metadata": {
        "id": "It-CJqfuGmfx"
      }
    },
    {
      "cell_type": "markdown",
      "source": [
        "-----\n"
      ],
      "metadata": {
        "id": "TGKNuWoaGnco"
      }
    },
    {
      "cell_type": "markdown",
      "source": [
        "#`Task 3: Using for loops with else clause`\n",
        "**Scenario.**   \n",
        "Suppose, you are building a cybersecurity file scanner. The system checks a list of\n",
        "filenames for any suspicious ones (e.g., \"virus.exe\", \"malware.bat\", \"trojan.py\").\n",
        "Requirements:\n",
        "1. Store suspicious keywords in a list.\n",
        "2. Use a for loop with an else clause to scan filenames one by one.\n",
        "3. If a suspicious file is found, print \"Warning: <filename> is malicious\" and stop the scan.\n",
        "4. If the loop finishes without finding any suspicious files, the else clause should print \"System\n",
        "Clean: No threats detected.\""
      ],
      "metadata": {
        "id": "lQb-dWsWA_1U"
      }
    },
    {
      "cell_type": "code",
      "source": [
        "files = [\"assignment.py\", \"slides.pptx\", \"notes.txt\"]\n",
        "suspicious = [\"virus.exe\", \"malware.bat\", \"trojan.py\"]\n",
        "\n",
        "for file in files:\n",
        "    if file in suspicious:\n",
        "        print(\"Warning:\", file, \"is malicious\")\n",
        "        break\n",
        "else:\n",
        "    print(\"System Clean: No threats detected.\")\n"
      ],
      "metadata": {
        "colab": {
          "base_uri": "https://localhost:8080/",
          "height": 0
        },
        "id": "Irs_lcq6EvWa",
        "outputId": "7bb2025c-373c-40a5-95cf-eaba6bb6dd20"
      },
      "execution_count": 11,
      "outputs": [
        {
          "output_type": "stream",
          "name": "stdout",
          "text": [
            "System Clean: No threats detected.\n"
          ]
        }
      ]
    },
    {
      "cell_type": "markdown",
      "source": [
        "#`Descriptions`\n",
        "This task is file scanner.  \n",
        "It check every file from list one by one.  \n",
        "If suspicious file found, program show warning and stop.  \n",
        "If not found, program say system clean using for loop with else."
      ],
      "metadata": {
        "id": "kol01MKZGzdn"
      }
    },
    {
      "cell_type": "markdown",
      "source": [
        "###"
      ],
      "metadata": {
        "id": "N1-j3nXaGxK6"
      }
    },
    {
      "cell_type": "markdown",
      "source": [
        "----"
      ],
      "metadata": {
        "id": "FlYTC2E-GyAP"
      }
    },
    {
      "cell_type": "markdown",
      "source": [
        "#`Task 4: Using any( ) and all( ) with Conditions`\n",
        "**Scenario.**  \n",
        " Let us suppose, you are testing an AI model that outputs confidence scores (between 0\n",
        "and 1) for its predictions. Your task is to check the quality of these predictions.\n",
        "Requirements:\n",
        "1. Store model confidence scores in a list (e.g., [0.92, 0.85, 0.78, 0.60]).\n",
        "2. If all confidence scores ≥ 0.80 → print \"Model is reliable for deployment.\"\n",
        "3. If any confidence score < 0.50 → print \"Warning: Model predictions are too weak.\"\n",
        "4. Otherwise, print \"Model requires further tuning.\"\n"
      ],
      "metadata": {
        "id": "kj-PST3EBjYt"
      }
    },
    {
      "cell_type": "code",
      "source": [
        "confidence_scores = [0.92, 0.85, 0.81, 0.88]\n",
        "print(\"Confidence Scores:\", confidence_scores)\n",
        "\n",
        "if all(score >= 0.80 for score in confidence_scores):\n",
        "    print(\"Model is reliable for deployment.\")\n",
        "elif any(score < 0.50 for score in confidence_scores):\n",
        "    print(\"Warning: Model predictions are too weak.\")\n",
        "else:\n",
        "    print(\"Model requires further tuning.\")\n"
      ],
      "metadata": {
        "colab": {
          "base_uri": "https://localhost:8080/",
          "height": 0
        },
        "id": "iQ9ZlZhmE6Oa",
        "outputId": "20b0eece-a3f8-4639-eb31-d8635d3fe068"
      },
      "execution_count": 14,
      "outputs": [
        {
          "output_type": "stream",
          "name": "stdout",
          "text": [
            "Confidence Scores: [0.92, 0.85, 0.81, 0.88]\n",
            "Model is reliable for deployment.\n"
          ]
        }
      ]
    },
    {
      "cell_type": "markdown",
      "source": [
        "#`Descriptions`\n",
        "This task check AI model confidence scores.  \n",
        "Scores are between 0 and 1.  \n",
        "If all scores ≥ 0.80 → model reliable, if any score < 0.50 → model weak.  \n",
        "Otherwise program say model need tuning using any() and all()."
      ],
      "metadata": {
        "id": "Xo-z9QfrG6eU"
      }
    },
    {
      "cell_type": "markdown",
      "source": [
        "###"
      ],
      "metadata": {
        "id": "ol0CCMMBIQWJ"
      }
    },
    {
      "cell_type": "markdown",
      "source": [
        "###"
      ],
      "metadata": {
        "id": "nhHtLSgmIRaL"
      }
    },
    {
      "cell_type": "markdown",
      "source": [
        "-----"
      ],
      "metadata": {
        "id": "B9eqGZAcISJ0"
      }
    },
    {
      "cell_type": "markdown",
      "source": [
        "#`Summary of All Tasks`\n",
        "In this assignment I finish 4 tasks using Python control flow.  \n",
        "Task 1 was voting system using walrus operator to take input and count yes/no.  \n",
        "Task 2 was shopping cart using conditional expression to check price expensive or affordable.  \n",
        "Task 3 was file scanner using for-else to find suspicious files and give warning or system clean.  \n",
        "Task 4 was model confidence checker using any() and all() to test scores and give result.  \n",
        "These tasks help me learn special Python features which make code short and clear."
      ],
      "metadata": {
        "id": "qylgDfCjITIj"
      }
    }
  ]
}