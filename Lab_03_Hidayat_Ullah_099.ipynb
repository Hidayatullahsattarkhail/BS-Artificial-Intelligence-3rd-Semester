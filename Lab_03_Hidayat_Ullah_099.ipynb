{
  "nbformat": 4,
  "nbformat_minor": 0,
  "metadata": {
    "colab": {
      "provenance": []
    },
    "kernelspec": {
      "name": "python3",
      "display_name": "Python 3"
    },
    "language_info": {
      "name": "python"
    }
  },
  "cells": [
    {
      "cell_type": "markdown",
      "source": [
        "# 📘 Lab Report\n",
        "## Name: **HIDAYAT ULLAH**  \n",
        "## R No: **B24F0050AI099**  \n",
        "## Lab No: **03**  \n",
        "## Date: **20/09/2025**  \n",
        "## Submitted to: **Engineer ABDULLAH SAJID**\n"
      ],
      "metadata": {
        "id": "Ul0OZv51-K3L"
      }
    },
    {
      "cell_type": "markdown",
      "source": [
        "#`TASK 1: DATA VALIDATION AND CLEANING SYSTEM`\n",
        "`Scenario:`  \n",
        " You're building a data preprocessing system for an AI application. The system needs.  \n",
        "to validate and clean numerical data from various sensors. Your task is to create a program that:  \n",
        "1. Accepts a list of numerical values as input.  \n",
        "2. Identifies and removes outliers (values that are more than 2 standard deviations from the\n",
        "mean).  \n",
        "3. Replaces missing values (represented as None or -1) with the mean of valid values.  \n",
        "4. Returns the cleaned dataset and statistics about the cleaning process.   \n",
        "`Input:`  \n",
        "A list of numerical values, which may include outliers and missing values."
      ],
      "metadata": {
        "id": "7Gb_OEBJRyhJ"
      }
    },
    {
      "cell_type": "code",
      "source": [
        "data = [12.5, 15.3, 11.8, None, 14.2, 100, 13.7, -1, 12.9, 14.1]\n",
        "print(\"Original Data:\", data)\n",
        "\n",
        "valid_values = [x for x in data if x is not None and x != -1]\n",
        "mean_val = sum(valid_values) / len(valid_values)\n",
        "\n",
        "variance = sum((x - mean_val) ** 2 for x in valid_values) / len(valid_values)\n",
        "std_val = variance ** 0.5\n",
        "\n",
        "cleaned_data = []\n",
        "outliers_removed = 0\n",
        "missing_replaced = 0\n",
        "\n",
        "for val in data:\n",
        "    if val in (None, -1):\n",
        "        cleaned_data.append(mean_val)\n",
        "        missing_replaced += 1\n",
        "    elif val < (mean_val - 2 * std_val) or val > (mean_val + 2 * std_val):\n",
        "        outliers_removed += 1\n",
        "        continue\n",
        "    else:\n",
        "        cleaned_data.append(val)\n",
        "\n",
        "print(\"Cleaned Data:\", cleaned_data)\n",
        "\n",
        "print(\"Number of Outliers removed:\", outliers_removed)\n",
        "print(\"Number of missing Values replaced:\", missing_replaced)\n"
      ],
      "metadata": {
        "colab": {
          "base_uri": "https://localhost:8080/"
        },
        "id": "E6lPBp0oSFi6",
        "outputId": "08532c1f-a86c-46bb-ffdc-f5396e7358a8"
      },
      "execution_count": 24,
      "outputs": [
        {
          "output_type": "stream",
          "name": "stdout",
          "text": [
            "Original Data: [12.5, 15.3, 11.8, None, 14.2, 100, 13.7, -1, 12.9, 14.1]\n",
            "Cleaned Data: [12.5, 15.3, 11.8, 24.3125, 14.2, 13.7, 24.3125, 12.9, 14.1]\n",
            "Number of Outliers removed: 1\n",
            "Number of missing Values replaced: 2\n"
          ]
        }
      ]
    },
    {
      "cell_type": "markdown",
      "source": [
        "#`Descriptions`\n",
        "This program clean data. First it remove missing values like None or -1 and replace them with mean. Then it calculate mean and standard deviation. Outliers more than 2 std are removed. At the end program return clean data with mean and std.z"
      ],
      "metadata": {
        "id": "r3DwEoJLSPpc"
      }
    },
    {
      "cell_type": "markdown",
      "source": [
        "####"
      ],
      "metadata": {
        "id": "60BpHqp8S9me"
      }
    },
    {
      "cell_type": "markdown",
      "source": [
        "###"
      ],
      "metadata": {
        "id": "ur3h3VK1S-Vy"
      }
    },
    {
      "cell_type": "markdown",
      "source": [
        "-----"
      ],
      "metadata": {
        "id": "lZNTL7QVS_CK"
      }
    },
    {
      "cell_type": "markdown",
      "source": [
        "###"
      ],
      "metadata": {
        "id": "wO5bYeEhS_vi"
      }
    },
    {
      "cell_type": "markdown",
      "source": [
        "#`TASK 2: INVENTORY MANAGEMENT SYSTEM`\n",
        "`Scenario:`  \n",
        "You're developing an inventory management system for a warehouse. The system\n",
        "needs to:  \n",
        "1. Track products and their quantities.  \n",
        "2. Process transactions (add, remove, or check stock).  \n",
        "3. Alert when stock levels are low (below a threshold).  \n",
        "4. Generate a summary report.  \n",
        "`Input:`  \n",
        "A series of commands in the format: operation product_name quantity."
      ],
      "metadata": {
        "id": "E3bNalOgRrYC"
      }
    },
    {
      "cell_type": "code",
      "source": [
        "def inventory_management_system():\n",
        "    # Initialize parallel lists for products and quantities\n",
        "    products = []\n",
        "    quantities = []\n",
        "    low_stock_threshold = 5\n",
        "\n",
        "    print(\"Inventory Management System\")\n",
        "    print(\"Commands: add [product] [quantity], remove [product] [quantity], check [product], report, exit\")\n",
        "\n",
        "    while True:\n",
        "        # Get user input\n",
        "        command = input(\"\\nEnter command: \").strip().lower()\n",
        "\n",
        "        if command == \"exit\":\n",
        "            print(\"Exiting inventory system.\")\n",
        "            break\n",
        "        elif command == \"report\":\n",
        "            # Generate summary report\n",
        "            print(\"\\nInventory Report:\")\n",
        "            for i in range(len(products)):\n",
        "                low_stock_msg = \" (Low stock!)\" if quantities[i] < low_stock_threshold else \"\"\n",
        "                print(f\"{products[i]}: {quantities[i]}{low_stock_msg}\")\n",
        "            continue\n",
        "\n",
        "        # Split command into parts\n",
        "        parts = command.split()\n",
        "        if len(parts) < 2:\n",
        "            print(\"Invalid command format. Use: operation product_name [quantity]\")\n",
        "            continue\n",
        "\n",
        "        operation = parts[0]\n",
        "        product_name = parts[1]\n",
        "\n",
        "        # Check if product exists in inventory\n",
        "        if product_name in products:\n",
        "            product_index = products.index(product_name)\n",
        "        else:\n",
        "            product_index = -1\n",
        "\n",
        "        # Process the operation\n",
        "        if operation == \"add\":\n",
        "            if len(parts) < 3:\n",
        "                print(\"Please specify quantity to add.\")\n",
        "                continue\n",
        "\n",
        "            try:\n",
        "                quantity = int(parts[2])\n",
        "                if quantity <= 0:\n",
        "                    print(\"Quantity must be positive.\")\n",
        "                    continue\n",
        "\n",
        "                if product_index == -1:\n",
        "                    # Add new product\n",
        "                    products.append(product_name)\n",
        "                    quantities.append(quantity)\n",
        "                    print(f\"Added {quantity} {product_name}(s). Current stock: {quantity}\")\n",
        "                else:\n",
        "                    # Update existing product\n",
        "                    quantities[product_index] += quantity\n",
        "                    print(f\"Added {quantity} {product_name}(s). Current stock: {quantities[product_index]}\")\n",
        "\n",
        "            except ValueError:\n",
        "                print(\"Quantity must be a number.\")\n",
        "\n",
        "        elif operation == \"remove\":\n",
        "            if len(parts) < 3:\n",
        "                print(\"Please specify quantity to remove.\")\n",
        "                continue\n",
        "\n",
        "            try:\n",
        "                quantity = int(parts[2])\n",
        "                if quantity <= 0:\n",
        "                    print(\"Quantity must be positive.\")\n",
        "                    continue\n",
        "\n",
        "                if product_index == -1:\n",
        "                    print(f\"Error: {product_name} not found in inventory.\")\n",
        "                else:\n",
        "                    if quantities[product_index] < quantity:\n",
        "                        print(f\"Error: Not enough {product_name} in stock. Current stock: {quantities[product_index]}\")\n",
        "                    else:\n",
        "                        quantities[product_index] -= quantity\n",
        "                        print(f\"Removed {quantity} {product_name}(s). Current stock: {quantities[product_index]}\")\n",
        "\n",
        "            except ValueError:\n",
        "                print(\"Quantity must be a number.\")\n",
        "\n",
        "        elif operation == \"check\":\n",
        "            if product_index == -1:\n",
        "                print(f\"{product_name} not found in inventory.\")\n",
        "            else:\n",
        "                print(f\"Current stock of {product_name}: {quantities[product_index]}\")\n",
        "\n",
        "        else:\n",
        "            print(\"Invalid operation. Use: add, remove, check, report, or exit.\")\n",
        "\n",
        "# Run the inventory system\n",
        "if __name__ == \"__main__\":\n",
        "    inventory_management_system()"
      ],
      "metadata": {
        "colab": {
          "base_uri": "https://localhost:8080/"
        },
        "id": "3JTRInUFZOFH",
        "outputId": "ade83905-c6ef-4030-e4d3-f213c74f7c80"
      },
      "execution_count": 22,
      "outputs": [
        {
          "output_type": "stream",
          "name": "stdout",
          "text": [
            "Inventory Management System\n",
            "Commands: add [product] [quantity], remove [product] [quantity], check [product], report, exit\n",
            "\n",
            "Enter command: add laptop 5\n",
            "Added 5 laptop(s). Current stock: 5\n",
            "\n",
            "Enter command: add phone 10\n",
            "Added 10 phone(s). Current stock: 10\n",
            "\n",
            "Enter command: remove laptop 2\n",
            "Removed 2 laptop(s). Current stock: 3\n",
            "\n",
            "Enter command: check laptop\n",
            "Current stock of laptop: 3\n",
            "\n",
            "Enter command: add headphone 15\n",
            "Added 15 headphone(s). Current stock: 15\n",
            "\n",
            "Enter command: remove phone 5\n",
            "Removed 5 phone(s). Current stock: 5\n",
            "\n",
            "Enter command: check phone\n",
            "Current stock of phone: 5\n",
            "\n",
            "Enter command: report\n",
            "\n",
            "Inventory Report:\n",
            "laptop: 3 (Low stock!)\n",
            "phone: 5\n",
            "headphone: 15\n",
            "\n",
            "Enter command: exit\n",
            "Exiting inventory system.\n"
          ]
        }
      ]
    },
    {
      "cell_type": "markdown",
      "source": [
        "#`Descriptions`\n",
        "This program manage warehouse. User can add, remove or check stock. If stock is less than 5, program give warning. At the end it show full report. It use lists, loops and if-else to handle stock system."
      ],
      "metadata": {
        "id": "r-6cYjmFSWjR"
      }
    },
    {
      "cell_type": "markdown",
      "source": [
        "###"
      ],
      "metadata": {
        "id": "_TLnWTFtSgdZ"
      }
    },
    {
      "cell_type": "markdown",
      "source": [
        "###"
      ],
      "metadata": {
        "id": "e8cLJVJ3ShcJ"
      }
    },
    {
      "cell_type": "markdown",
      "source": [
        "----"
      ],
      "metadata": {
        "id": "2N7dzhVhSjmL"
      }
    },
    {
      "cell_type": "markdown",
      "source": [
        "####"
      ],
      "metadata": {
        "id": "2zx76LD2SkrO"
      }
    },
    {
      "cell_type": "markdown",
      "source": [
        "#`TASK 3: PASSWORD STRENGTH ANALYZER`\n",
        "`Scenario:`  \n",
        " You're building a password strength analyzer for a security system. The program\n",
        "should:  \n",
        "1. Check a password against multiple criteria.  \n",
        "2. Assign a strength score based on the criteria met.  \n",
        "3. Provide detailed feedback on how to improve the password.  \n",
        "`Criteria:`\n",
        "• Length (at least 8 characters): +1 point.  \n",
        "• Contains uppercase and lowercase letters: +1 point.   \n",
        "• Contains at least one digit: +1 point.  \n",
        "• Contains at least one special character: +1 point.  \n",
        "• Not a common password (check against a list): +1 point.  \n",
        "`Input:`  \n",
        "A password string: MyP@ssw0rd."
      ],
      "metadata": {
        "id": "a7Wu_xMd-QSa"
      }
    },
    {
      "cell_type": "code",
      "source": [
        "password = input(\"Enter your password: \")\n",
        "score = 0\n",
        "\n",
        "common_pass = ['12345678', 'hello123', 'abc12345', 'qwerty', 'password']\n",
        "special = \"!\\\"#$%&'()*+,-./:;<=>?@[\\\\]^_`{|}~\"\n",
        "\n",
        "print(\"\\nPassword Strength Analysis:\")\n",
        "\n",
        "# 1. Length check\n",
        "if len(password) >= 8:\n",
        "    print(\"Length: ✓ (8+ characters)\")\n",
        "    score += 1\n",
        "else:\n",
        "    print(\"Length: ✗ (Too short)\")\n",
        "\n",
        "# 2. Uppercase + Lowercase\n",
        "if any(c.isupper() for c in password) and any(c.islower() for c in password):\n",
        "    print(\"Uppercase and lowercase: ✓\")\n",
        "    score += 1\n",
        "else:\n",
        "    print(\"Uppercase and lowercase: ✗\")\n",
        "\n",
        "# 3. Digit check\n",
        "if any(c.isdigit() for c in password):\n",
        "    print(\"Contains digit: ✓\")\n",
        "    score += 1\n",
        "else:\n",
        "    print(\"Contains digit: ✗\")\n",
        "\n",
        "# 4. Special character\n",
        "if any(c in special for c in password):\n",
        "    print(\"Contains special character: ✓\")\n",
        "    score += 1\n",
        "else:\n",
        "    print(\"Contains special character: ✗\")\n",
        "\n",
        "# 5. Not a common password\n",
        "if password not in common_pass:\n",
        "    print(\"Not a common password: ✓\")\n",
        "    score += 1\n",
        "else:\n",
        "    print(\"Not a common password: ✗\")\n",
        "\n",
        "# Final result\n",
        "print(f\"\\nStrength score: {score}/5\", end=\" - \")\n",
        "if score == 5:\n",
        "    print(\"Very Strong!\")\n",
        "elif score >= 3:\n",
        "    print(\"Strong\")\n",
        "elif score >= 2:\n",
        "    print(\"Medium\")\n",
        "else:\n",
        "    print(\"Weak\")\n"
      ],
      "metadata": {
        "colab": {
          "base_uri": "https://localhost:8080/"
        },
        "id": "2xs8p6xmCM5Z",
        "outputId": "1f332478-0ab7-4c3d-e35d-cf5df2b51b38"
      },
      "execution_count": 25,
      "outputs": [
        {
          "output_type": "stream",
          "name": "stdout",
          "text": [
            "Enter your password: MyP@ssw0rd\n",
            "\n",
            "Password Strength Analysis:\n",
            "Length: ✓ (8+ characters)\n",
            "Uppercase and lowercase: ✓\n",
            "Contains digit: ✓\n",
            "Contains special character: ✓\n",
            "Not a common password: ✓\n",
            "\n",
            "Strength score: 5/5 - Very Strong!\n"
          ]
        }
      ]
    },
    {
      "cell_type": "markdown",
      "source": [
        "#`Descriptions`\n",
        "This program check password strength. It give score if password long, has upper+lower, digit, special, and not common. Final score decide if password is strong, medium or weak.\n"
      ],
      "metadata": {
        "id": "LTnss_DvGRM3"
      }
    },
    {
      "cell_type": "markdown",
      "source": [
        "----"
      ],
      "metadata": {
        "id": "jCtf1qCqTQ3W"
      }
    },
    {
      "cell_type": "markdown",
      "source": [
        "#`FULL LAB SUMMARY`\n",
        "In this lab I do 3 tasks using Python conditionals and loops.  \n",
        "  \n",
        "In Task 1, I make data cleaning system. It replace missing values with mean and remove outliers with std formula.    \n",
        "\\.\n",
        "In Task 2, I make inventory system. It can add, remove, check stock and also give low stock warning.  \n",
        "  \n",
        "In Task 3, I make password analyzer. It check rules like length, special character, digits and give strength result.  \n",
        "  \n",
        "This lab help me to learn how to use if-else, loops, break, continue, and also work with lists and strings in real problems."
      ],
      "metadata": {
        "id": "qg3MssePTR8G"
      }
    }
  ]
}