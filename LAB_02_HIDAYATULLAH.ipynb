{
  "nbformat": 4,
  "nbformat_minor": 0,
  "metadata": {
    "colab": {
      "provenance": []
    },
    "kernelspec": {
      "name": "python3",
      "display_name": "Python 3"
    },
    "language_info": {
      "name": "python"
    }
  },
  "cells": [
    {
      "cell_type": "markdown",
      "source": [
        "# 📘 Lab Report  \n",
        "\n",
        "## Name: **HIDAYAT ULLAH**  \n",
        "## R No: **B24F0050AI099**  \n",
        "## Lab No: **02**  \n",
        "## Date: **03/10/2025**  \n",
        "## Submitted to: **Engineer ABDULLAH SAJID**\n"
      ],
      "metadata": {
        "id": "yC_yJaUYh7PQ"
      }
    },
    {
      "cell_type": "markdown",
      "source": [
        "#**`Task 1: Vowel Encoding (Data Preprocessing for NLP)`**\n",
        "##***`Scenario:`***\n",
        " In natural language processing (NLP), text data often undergoes preprocessing steps\n",
        "like encoding specific characters. You are tasked with encoding vowels in a string by replacing\n",
        "them with numbers: a becomes 1, e becomes 2, i becomes 3, o becomes 4, and u becomes 5. This\n",
        "helps in simple data transformation for further analysis.\n",
        "##***`Input:`***\n",
        "A string entered by the user.\n",
        "##***`Output:`***\n",
        "The encoded string where all vowels are replaced by their corresponding numbers.\n",
        "##***`Example:`***\n",
        "• Input: \"hello world\"\n",
        "• Output: \"h2ll4 w4rld\"\n",
        "##***`Hints:`***\n",
        "• Use the replace() method multiple times for each vowel.\n",
        "• Remember that strings are immutable, so each replace() returns a new string. You can\n",
        "chain these methods or assign the result to a variable each time.\n",
        "• Consider the order of replacement; since the replacements are distinct, order may not matter here."
      ],
      "metadata": {
        "id": "Cu0pjDqQGBbJ"
      }
    },
    {
      "cell_type": "code",
      "source": [
        "text = input(\"Enter a string: \")\n",
        "\n",
        "encoded_text = (text.replace(\"a\", \"1\")\n",
        "                     .replace(\"e\", \"2\")\n",
        "                     .replace(\"i\", \"3\")\n",
        "                     .replace(\"o\", \"4\")\n",
        "                     .replace(\"u\", \"5\"))\n",
        "\n",
        "print(\"Encoded string:\", encoded_text)\n"
      ],
      "metadata": {
        "id": "Z_KqgOdiHpQk",
        "colab": {
          "base_uri": "https://localhost:8080/"
        },
        "outputId": "8e9d24bb-9f35-4a8d-be77-ff51fa3f5acf"
      },
      "execution_count": null,
      "outputs": [
        {
          "output_type": "stream",
          "name": "stdout",
          "text": [
            "Enter a string: Hello word \n",
            "Encoded string: H2ll4 w4rd \n"
          ]
        }
      ]
    },
    {
      "cell_type": "markdown",
      "source": [
        "#***`Description`***\n",
        "User writes a string and saves it in a variable called text.  \n",
        "The program changes vowels into numbers:  \n",
        "a → 1  \n",
        "e → 2  \n",
        "i → 3  \n",
        "o → 4  \n",
        "u → 5.\n",
        "It makes a new string with these changes and saves it in encoded_text.  \n",
        "Finally, it prints the new encoded string.  \n",
        "###Example:  \n",
        "#####  \"hello world\" becomes \"h2ll4 w4rld\".  "
      ],
      "metadata": {
        "id": "oxLQ8r3wHqhi"
      }
    },
    {
      "cell_type": "markdown",
      "source": [
        "##\n"
      ],
      "metadata": {
        "id": "RdQvwPKbbyIj"
      }
    },
    {
      "cell_type": "markdown",
      "source": [
        "###"
      ],
      "metadata": {
        "id": "VAQU1eYSbxEw"
      }
    },
    {
      "cell_type": "markdown",
      "source": [
        "###"
      ],
      "metadata": {
        "id": "F9YtYaQhbvWz"
      }
    },
    {
      "cell_type": "markdown",
      "source": [
        "-----"
      ],
      "metadata": {
        "id": "qTg46OhOZ-5M"
      }
    },
    {
      "cell_type": "markdown",
      "source": [
        "##"
      ],
      "metadata": {
        "id": "mKTy-ReAb3zy"
      }
    },
    {
      "cell_type": "markdown",
      "source": [
        "##"
      ],
      "metadata": {
        "id": "u8bHX9yBb6Df"
      }
    },
    {
      "cell_type": "markdown",
      "source": [
        "#**`Task 2: Dataset Merging and Analysis (AI Data Management)`**  \n",
        "##***`Scenario:`***\n",
        "In AI, data often comes from multiple sources. You have two lists of numerical values\n",
        "from different experiments. Your task is to merge these lists into a single dataset, sort it to find\n",
        "the overall trend, and identify the highest and lowest values for outlier detection.  \n",
        "##***`Input:`***   \n",
        "Two lines of input, each containing numbers separated by spaces.  \n",
        "• First line: numbers for List 1.  \n",
        "• Second line: numbers for List 2.  "
      ],
      "metadata": {
        "id": "h4khXnUpaAq7"
      }
    },
    {
      "cell_type": "code",
      "source": [
        "list1 = list(map(int, input(\"Enter numbers for List 1: \").split()))\n",
        "list2 = list(map(int, input(\"Enter numbers for List 2: \").split()))\n",
        "\n",
        "merged_list = list1 + list2\n",
        "merged_list.sort()\n",
        "\n",
        "print(\"Merged and Sorted List:\", merged_list)\n",
        "print(\"Lowest Value:\", merged_list[0])\n",
        "print(\"Highest Value:\", merged_list[-1])\n"
      ],
      "metadata": {
        "id": "YFUo2sU6H7gO",
        "colab": {
          "base_uri": "https://localhost:8080/"
        },
        "outputId": "ef4d9b10-27db-406a-ab10-c6083448623d"
      },
      "execution_count": null,
      "outputs": [
        {
          "output_type": "stream",
          "name": "stdout",
          "text": [
            "Enter numbers for List 1: 1 3 7 2 4\n",
            "Enter numbers for List 2: 9 8 12 5 6\n",
            "Merged and Sorted List: [1, 2, 3, 4, 5, 6, 7, 8, 9, 12]\n",
            "Lowest Value: 1\n",
            "Highest Value: 12\n"
          ]
        }
      ]
    },
    {
      "cell_type": "markdown",
      "source": [
        "#***`Description`***\n",
        "This program takes two lists of numbers from the user.  \n",
        "First, it takes List 1. Then it takes List 2.  \n",
        "It joins both lists into one.  \n",
        "Then it sorts the list from smallest to biggest.  \n",
        "After sorting, it shows the lowest value and the highest value."
      ],
      "metadata": {
        "id": "W3LG8rrEH6VV"
      }
    },
    {
      "cell_type": "markdown",
      "source": [
        "##"
      ],
      "metadata": {
        "id": "GczWZESvcanO"
      }
    },
    {
      "cell_type": "markdown",
      "source": [
        "##"
      ],
      "metadata": {
        "id": "Gp_3jaYAcbz6"
      }
    },
    {
      "cell_type": "markdown",
      "source": [
        "-----"
      ],
      "metadata": {
        "id": "R55LW1pkccli"
      }
    },
    {
      "cell_type": "markdown",
      "source": [
        "###"
      ],
      "metadata": {
        "id": "93CCgjArceU1"
      }
    },
    {
      "cell_type": "markdown",
      "source": [
        "###"
      ],
      "metadata": {
        "id": "ISe12d17cfLl"
      }
    },
    {
      "cell_type": "markdown",
      "source": [
        "#**Task 3:** **`Text Statistics (NLP Preprocessing)`**\n",
        "##***`Scenario:`***\n",
        " Before feeding text data into an AI model, it is common to compute basic statistics.\n",
        " Given a text string, compute the number of words, the number of characters (with and without space), and convert the text to uppercase for consistency.\n",
        "##**`Input:`**\n",
        "  A string entered by the user.\n",
        "##***`Output:`***\n",
        "  The number of words, number of characters including spaces, number of characters excluding spaces, and the uppercase version of the string."
      ],
      "metadata": {
        "id": "GIJuNU_4Df-0"
      }
    },
    {
      "cell_type": "code",
      "source": [
        "taxt = input(\"enter your taxt: \")\n",
        "\n",
        "words = taxt.split()\n",
        "NumberWords = len(words)\n",
        "\n",
        "Number_of_character_with_space = len(taxt)\n",
        "Number_of_character_without_space = len(taxt.replace(\" \", \"\"))\n",
        "\n",
        "uppercase_text = taxt.upper()\n",
        "\n",
        "print(\"---RESULTS---\")\n",
        "print(\"Number of words:\", NumberWords)\n",
        "print(\"Characters (with spaces):\", Number_of_character_with_space)\n",
        "print(\"Characters (without spaces):\", Number_of_character_without_space)\n",
        "print(\"Uppercase version:\", uppercase_text)\n"
      ],
      "metadata": {
        "colab": {
          "base_uri": "https://localhost:8080/"
        },
        "id": "k-Deru6u-5iQ",
        "outputId": "9f13909b-339e-458e-99d4-5e63ea5f6735"
      },
      "execution_count": 3,
      "outputs": [
        {
          "output_type": "stream",
          "name": "stdout",
          "text": [
            "enter your taxt: Hello world! AI is fun.\n",
            "---RESULTS---\n",
            "Number of words: 5\n",
            "Characters (with spaces): 23\n",
            "Characters (without spaces): 19\n",
            "Uppercase version: HELLO WORLD! AI IS FUN.\n"
          ]
        }
      ]
    },
    {
      "cell_type": "markdown",
      "source": [
        "#**`Description:`**\n",
        "This program takes text from the user.  \n",
        "It finds how many words are in the text.  \n",
        "It finds how many characters with spaces.  \n",
        "It finds how many characters without spaces.  \n",
        "It changes the text into uppercase letters.  \n",
        "Finally, it prints all these results.  "
      ],
      "metadata": {
        "id": "_1pHu9D5FLFW"
      }
    },
    {
      "cell_type": "markdown",
      "source": [
        "#**Summary**\n",
        "In this lab we did 3 main tasks.    \n",
        "  \n",
        "In Task 1, we worked on string preprocessing where we change vowels into numbers (a=1, e=2, i=3, o=4, u=5). This was to practice string replace and to see immutability.    \n",
        "  \n",
        "In Task 2, we merged two lists of numbers, then sorted them, and found the lowest and highest values. This helped us to learn list merging, sorting, and outlier checking.  \n",
        "  \n",
        "In Task 3, we calculated text statistics like number of words, number of characters (with and without space), and also changed the text into uppercase. This was for practice of split, len, replace, and upper.  \n",
        "  \n",
        "So overall in these tasks we practiced both string and list operations and how they are used in AI preprocessing and data handling.\n"
      ],
      "metadata": {
        "id": "D6teqUvwrD2n"
      }
    }
  ]
}