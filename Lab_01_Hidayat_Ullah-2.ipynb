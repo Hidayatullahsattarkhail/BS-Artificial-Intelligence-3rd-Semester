{
  "nbformat": 4,
  "nbformat_minor": 0,
  "metadata": {
    "colab": {
      "provenance": []
    },
    "kernelspec": {
      "name": "python3",
      "display_name": "Python 3"
    },
    "language_info": {
      "name": "python"
    }
  },
  "cells": [
    {
      "cell_type": "markdown",
      "source": [
        "Name :  HIDAYAT ULLAH.   \n",
        "R No :  B24F0050AI099.   \n",
        "Lab No : 01.  \n",
        "Date : 03/10/2025.   \n",
        "\n",
        "\n"
      ],
      "metadata": {
        "id": "hI-ORxAtOEE9"
      }
    },
    {
      "cell_type": "markdown",
      "source": [
        "#**LAB TASK 01:** Cash Denomination Breakdown (Bank Teller)"
      ],
      "metadata": {
        "id": "YCsvXzY-PNET"
      }
    },
    {
      "cell_type": "markdown",
      "source": [
        "Scenario:  \n",
        "         A cashier needs to break a customer’s cash amount (integer rupees) into the minimum number of notes using these denominations: 1000, 500, 100, 50, 20, 10, 5, 1.\n",
        "The program should accept an integer amount and print how many notes of each denomination are required."
      ],
      "metadata": {
        "id": "PqMuNxh7T-kb"
      }
    },
    {
      "cell_type": "code",
      "execution_count": null,
      "metadata": {
        "id": "tTGx0yby7Msg",
        "colab": {
          "base_uri": "https://localhost:8080/"
        },
        "outputId": "13e0dd5c-4648-46a3-c44f-335b9520899d"
      },
      "outputs": [
        {
          "output_type": "stream",
          "name": "stdout",
          "text": [
            " enter the cash amount 3786\n",
            "1000: 3\n",
            "500: 1\n",
            "100: 2\n",
            "50: 1\n",
            "20: 1\n",
            "10: 1\n",
            "5: 1\n",
            "1: 1\n"
          ]
        }
      ],
      "source": [
        "amount = int(input (\" enter the cash amount \")) ##3786\n",
        "print(\"1000:\", amount // 1000)\n",
        "amount = amount % 1000\n",
        "print(\"500:\", amount // 500)\n",
        "amount = amount % 500\n",
        "print(\"100:\", amount // 100)\n",
        "amount = amount % 100\n",
        "print(\"50:\", amount // 50)\n",
        "amount = amount % 50\n",
        "print(\"20:\", amount // 20)\n",
        "amount = amount % 20\n",
        "print(\"10:\", amount // 10)\n",
        "amount = amount % 10\n",
        "print(\"5:\", amount // 5)\n",
        "amount = amount % 5\n",
        "print(\"1:\", amount // 1)"
      ]
    },
    {
      "cell_type": "markdown",
      "source": [
        "##Descriptions"
      ],
      "metadata": {
        "id": "PRUgBe9VWcjo"
      }
    },
    {
      "cell_type": "markdown",
      "source": [
        "This program takes a cash amount and breaks it into notes. It shows how many 1000, 500, 100, and other notes are needed."
      ],
      "metadata": {
        "id": "f3esR_K6WHFJ"
      }
    },
    {
      "cell_type": "markdown",
      "source": [
        "---"
      ],
      "metadata": {
        "id": "5-v6XvWDlhUw"
      }
    },
    {
      "cell_type": "markdown",
      "source": [
        "#####"
      ],
      "metadata": {
        "id": "UbdQcg0xlxKg"
      }
    },
    {
      "cell_type": "markdown",
      "source": [
        "####"
      ],
      "metadata": {
        "id": "J5FGbN5HiM0Z"
      }
    },
    {
      "cell_type": "markdown",
      "source": [
        "#**LAB TASK 02:**  Temperature Batch: Convert & Average (Data Logger)"
      ],
      "metadata": {
        "id": "pwC-P3V4mOXg"
      }
    },
    {
      "cell_type": "markdown",
      "source": [
        "###Scenario:\n",
        "A lab sensor recorded three temperature readings in Celsius. The lab assistant needs a tiny\n",
        "script to convert each reading to Fahrenheit and compute the average temperature in both\n",
        "Celsius and Fahrenheit.\n",
        "###Formulas:\n",
        "• Fahrenheit = Celsius × 9/5 + 32\n",
        "• Average = (t1 + t2 + t3) / 3\n",
        "###Hints:\n",
        "• Use float(input(...)).\n",
        "• Keep intermediate values in meaningful variable names.\n",
        "• Format numeric output with sensible precision if needed."
      ],
      "metadata": {
        "id": "t5tvmi1Dm__w"
      }
    },
    {
      "cell_type": "code",
      "source": [
        "t1 = float(input(\"Enter first temperature in Celsius: \"))\n",
        "t2 = float(input(\"Enter second temperature in Celsius: \"))\n",
        "t3 = float(input(\"Enter third temperature in Celsius: \"))\n",
        "#Convert to Fahrenheit\n",
        "f1 = t1 * 9/5 + 32\n",
        "f2 = t2 * 9/5 + 32\n",
        "f3 = t3 * 9/5 + 32\n",
        "#Calculate averages\n",
        "avg_celsius = (t1 + t2 + t3) / 3\n",
        "avg_fahrenheit = (f1 + f2 + f3) / 3\n",
        "\n",
        "print(\"\\nCelsius readings:\", t1, \",\", t2, \",\", t3)\n",
        "print(\"Fahrenheit readings:\", f1, \",\", f2, \",\", f3)\n",
        "print(\"Average Celsius:\", round(avg_celsius, 1))\n",
        "print(\"Average Fahrenheit:\", round(avg_fahrenheit, 1))"
      ],
      "metadata": {
        "id": "QpGTzlDgnNjm",
        "colab": {
          "base_uri": "https://localhost:8080/",
          "height": 0
        },
        "outputId": "f4736158-fa7b-44fe-8fb0-cf92cd0d4679"
      },
      "execution_count": 3,
      "outputs": [
        {
          "output_type": "stream",
          "name": "stdout",
          "text": [
            "Enter first temperature in Celsius: 23\n",
            "Enter second temperature in Celsius: 34\n",
            "Enter third temperature in Celsius: 65\n",
            "\n",
            "Celsius readings: 23.0 , 34.0 , 65.0\n",
            "Fahrenheit readings: 73.4 , 93.2 , 149.0\n",
            "Average Celsius: 40.7\n",
            "Average Fahrenheit: 105.2\n"
          ]
        }
      ]
    },
    {
      "cell_type": "markdown",
      "source": [
        "##Description:\n",
        "This program takes 3 temperatures in Celsius, changes them into Fahrenheit, and then finds the average in both Celsius and Fahrenheit."
      ],
      "metadata": {
        "id": "Mo87qGn9ndUR"
      }
    },
    {
      "cell_type": "markdown",
      "source": [
        "----"
      ],
      "metadata": {
        "id": "10H9gZ3biAOs"
      }
    },
    {
      "cell_type": "markdown",
      "source": [
        "#####"
      ],
      "metadata": {
        "id": "vNflFBpjkk-J"
      }
    },
    {
      "cell_type": "markdown",
      "source": [
        "#####"
      ],
      "metadata": {
        "id": "E8QcedzIknUd"
      }
    },
    {
      "cell_type": "markdown",
      "source": [
        "#####"
      ],
      "metadata": {
        "id": "6yYef3-fkrhB"
      }
    },
    {
      "cell_type": "markdown",
      "source": [
        "#**LAB TASK 3:** Compound Interest (Savings Planner) BONUS TASK!"
      ],
      "metadata": {
        "id": "T8niWl5CbwGt"
      }
    },
    {
      "cell_type": "markdown",
      "source": [
        "###Scenario:  \n",
        "A student wants to know how much their savings will grow if interest is compounded\n",
        "annually. Write a program that computes the future value using annual compound interest.  \n",
        "###Formula:  \n",
        "A = P * (1 + r/100) ** t.  \n",
        "• P = principal (initial amount)  \n",
        "• r = annual interest rate (percent).  \n",
        "• t = time in years.  \n",
        "• A = amount after t years.   \n",
        "###Hints:  \n",
        "• Use float() for money and rates.  \n",
        "• Use ** for exponent; ensure you compute r/100 correctly."
      ],
      "metadata": {
        "id": "OCV2IrRGb4ya"
      }
    },
    {
      "cell_type": "code",
      "source": [
        "p = float(input(\"principal: \"))\n",
        "r = float(input(\"rate (%) : \"))\n",
        "t = int(input(\"years: \"))\n",
        "a = p * (1 + r/100) ** t\n",
        "interest = a - p\n",
        "print(f\"Amount after {t}: years = {a}\")\n",
        "print(f\"inerest earnd = {interest}\")\n"
      ],
      "metadata": {
        "colab": {
          "base_uri": "https://localhost:8080/"
        },
        "id": "QFPP6Hx0dJfN",
        "outputId": "d4b6f9e2-768a-4c03-a481-5468a671f45d"
      },
      "execution_count": null,
      "outputs": [
        {
          "output_type": "stream",
          "name": "stdout",
          "text": [
            "principal: 10000\n",
            "rate (%) : 5\n",
            "years: 3\n",
            "Amount after 3: years = 11576.250000000002\n",
            "inerest earnd = 1576.2500000000018\n"
          ]
        }
      ]
    },
    {
      "cell_type": "markdown",
      "source": [
        "##Description:\n",
        "This program takes money, rate, and years, then calculates how much it will become with compound interest. It also shows how much extra interest is earned.\n"
      ],
      "metadata": {
        "id": "Eokyh-ztkssp"
      }
    },
    {
      "cell_type": "markdown",
      "source": [
        "#####"
      ],
      "metadata": {
        "id": "DAsTts8Zl_4H"
      }
    },
    {
      "cell_type": "markdown",
      "source": [
        "-----"
      ],
      "metadata": {
        "id": "wsA6hupjl8zy"
      }
    }
  ]
}